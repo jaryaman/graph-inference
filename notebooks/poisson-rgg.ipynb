{
 "cells": [
  {
   "cell_type": "markdown",
   "id": "75bfaada-d63f-4fe7-b7f3-ee8d72f16586",
   "metadata": {},
   "source": [
    "# Simulation and inference of Poisson RGG\n",
    "\n",
    "$$P(G|D, \\theta) = \\prod_{i<j} \\frac{(\\mathcal{F}(D_{ij}, \\theta))^{A_{ij}}}{A_{ij}!} \\exp(-\\mathcal{F}(D_{ij}, \\theta))$$"
   ]
  },
  {
   "cell_type": "code",
   "execution_count": 1,
   "id": "5063d7fb-814b-44f1-ab99-78f1c607c84a",
   "metadata": {},
   "outputs": [],
   "source": [
    "%load_ext autoreload\n",
    "%autoreload 2"
   ]
  },
  {
   "cell_type": "code",
   "execution_count": 2,
   "id": "f9cb08cf-5f5a-46e1-a857-2f5b46cb57ae",
   "metadata": {},
   "outputs": [],
   "source": [
    "import sys\n",
    "sys.path.append('../utils')"
   ]
  },
  {
   "cell_type": "code",
   "execution_count": 3,
   "id": "dfd166c6-6b0e-4c48-a288-b1bb1f0f0510",
   "metadata": {},
   "outputs": [],
   "source": [
    "from graphs import get_independent_components_rgg, make_inter_vertex_distances, poissonian_random_geometric_graph\n",
    "from plot import plot_multigraph\n",
    "from networkx.linalg.graphmatrix import adjacency_matrix\n",
    "import pymc3 as pm\n",
    "import theano\n",
    "import theano.tensor as tt"
   ]
  },
  {
   "cell_type": "code",
   "execution_count": 4,
   "id": "96dacb6e-524b-4534-a266-304e048a9a5b",
   "metadata": {},
   "outputs": [],
   "source": [
    "import networkx as nx\n",
    "from tqdm import tqdm\n",
    "import matplotlib.pyplot as plt\n",
    "import numpy as np\n",
    "import math"
   ]
  },
  {
   "cell_type": "code",
   "execution_count": 5,
   "id": "edbb6b6c-3db0-4987-84bb-5d7b77a2217e",
   "metadata": {},
   "outputs": [],
   "source": [
    "SEED = 42"
   ]
  },
  {
   "cell_type": "code",
   "execution_count": 6,
   "id": "63400440-d956-4565-bd1a-86c903ba3a02",
   "metadata": {},
   "outputs": [],
   "source": [
    "n = 10\n",
    "dim = 2"
   ]
  },
  {
   "cell_type": "code",
   "execution_count": 7,
   "id": "2b084270-e798-49d4-af36-410e448a1338",
   "metadata": {},
   "outputs": [],
   "source": [
    "kr_exp = 2\n",
    "k0_exp = 1\n",
    "exponential_kernel = lambda dist: k0_exp*math.exp(-kr_exp * dist)"
   ]
  },
  {
   "cell_type": "code",
   "execution_count": 8,
   "id": "f2d2ad05-acd2-4829-ae7c-91e94b444f2c",
   "metadata": {},
   "outputs": [],
   "source": [
    "r = np.random.RandomState(SEED)\n",
    "G_poisson = poissonian_random_geometric_graph(n, 1000, r, p_dist=exponential_kernel)"
   ]
  },
  {
   "cell_type": "code",
   "execution_count": 9,
   "id": "2b545ed2-6350-4a9e-ad0a-9d2a4f297aa3",
   "metadata": {},
   "outputs": [],
   "source": [
    "nodes_pos = G_poisson.nodes(data=\"pos\")"
   ]
  },
  {
   "cell_type": "code",
   "execution_count": 10,
   "id": "298990fd-b1fc-4e28-801b-2a552fb698a5",
   "metadata": {},
   "outputs": [],
   "source": [
    "adj = adjacency_matrix(G_poisson)\n",
    "adj = adj.toarray()"
   ]
  },
  {
   "cell_type": "code",
   "execution_count": 11,
   "id": "0d748dba-5df9-4c89-b446-f89067550ec5",
   "metadata": {},
   "outputs": [
    {
     "data": {
      "text/plain": [
       "array([[0, 0, 0, 0, 0, 0, 0, 0, 0, 0],\n",
       "       [0, 0, 0, 0, 0, 0, 3, 0, 1, 0],\n",
       "       [0, 0, 0, 0, 0, 1, 0, 0, 0, 0],\n",
       "       [0, 0, 0, 0, 0, 4, 1, 0, 0, 0],\n",
       "       [0, 0, 0, 0, 0, 0, 0, 1, 0, 0],\n",
       "       [0, 0, 1, 4, 0, 0, 0, 0, 0, 1],\n",
       "       [0, 3, 0, 1, 0, 0, 0, 0, 0, 1],\n",
       "       [0, 0, 0, 0, 1, 0, 0, 0, 1, 0],\n",
       "       [0, 1, 0, 0, 0, 0, 0, 1, 0, 0],\n",
       "       [0, 0, 0, 0, 0, 1, 1, 0, 0, 0]])"
      ]
     },
     "execution_count": 11,
     "metadata": {},
     "output_type": "execute_result"
    }
   ],
   "source": [
    "adj"
   ]
  },
  {
   "cell_type": "code",
   "execution_count": 12,
   "id": "5f25109e-cf5d-4331-a0ab-b09eb74c5724",
   "metadata": {},
   "outputs": [],
   "source": [
    "assert np.allclose(adj, adj.T)"
   ]
  },
  {
   "cell_type": "code",
   "execution_count": 13,
   "id": "1f239555-b506-4da1-81ef-3bf7ccf36b60",
   "metadata": {},
   "outputs": [
    {
     "data": {
      "image/png": "[encoded data removed]",
      "text/plain": [
       "<Figure size 432x288 with 1 Axes>"
      ]
     },
     "metadata": {},
     "output_type": "display_data"
    }
   ],
   "source": [
    "ax = plot_multigraph(G_poisson)"
   ]
  },
  {
   "cell_type": "code",
   "execution_count": 14,
   "id": "0f4140c9-c576-4f88-80a6-a082811fb9f8",
   "metadata": {},
   "outputs": [
    {
     "name": "stderr",
     "output_type": "stream",
     "text": [
      "100%|██████████| 10/10 [00:00<00:00, 38944.33it/s]\n"
     ]
    }
   ],
   "source": [
    "distances = make_inter_vertex_distances(G_poisson)"
   ]
  },
  {
   "cell_type": "code",
   "execution_count": 15,
   "id": "23a90520-7ed0-4328-8d99-e1ca455df008",
   "metadata": {},
   "outputs": [],
   "source": [
    "distances_filter,  adj_filter = get_independent_components_rgg(G_poisson, distances)"
   ]
  },
  {
   "cell_type": "markdown",
   "id": "80848a43-1a6e-4be4-97aa-67ac4a7d1e28",
   "metadata": {},
   "source": [
    "## Inference"
   ]
  },
  {
   "cell_type": "code",
   "execution_count": 16,
   "id": "4cf8bfcf-7619-4a79-94cb-8a37c75d7378",
   "metadata": {},
   "outputs": [],
   "source": [
    "distances_exp_tt = theano.shared(distances_filter)\n",
    "\n",
    "with pm.Model() as model_exp:\n",
    "    kr = pm.Uniform('kr', 0, 100)\n",
    "    k0 = pm.Uniform('k0', 0, 100)\n",
    "    exponential = k0*pm.math.exp(-kr * distances_exp_tt)\n",
    "    pm.Poisson('obs', mu=exponential, observed=adj_filter)"
   ]
  },
  {
   "cell_type": "code",
   "execution_count": 17,
   "id": "59835487-f0d8-46c8-a00f-7201ed3d511a",
   "metadata": {},
   "outputs": [
    {
     "name": "stderr",
     "output_type": "stream",
     "text": [
      "/home/juvid/miniconda3/envs/kolgraph/lib/python3.7/site-packages/pymc3/tuning/starting.py:61: UserWarning: find_MAP should not be used to initialize the NUTS sampler, simply call pymc3.sample() and it will automatically initialize NUTS in a better way.\n",
      "  warnings.warn('find_MAP should not be used to initialize the NUTS sampler, simply call pymc3.sample() and it will automatically initialize NUTS in a better way.')\n",
      "logp = -43.055, ||grad|| = 3.0368: 100%|██████████| 19/19 [00:00<00:00, 1943.04it/s]  \n"
     ]
    }
   ],
   "source": [
    "map_estimate_exp = pm.find_MAP(model=model_exp)"
   ]
  },
  {
   "cell_type": "code",
   "execution_count": 18,
   "id": "26aa1adb-6617-47be-84f1-8465b4833545",
   "metadata": {},
   "outputs": [
    {
     "name": "stderr",
     "output_type": "stream",
     "text": [
      "Auto-assigning NUTS sampler...\n",
      "Initializing NUTS using jitter+adapt_diag...\n",
      "Multiprocess sampling (4 chains in 4 jobs)\n",
      "NUTS: [k0, kr]\n",
      "Sampling 4 chains: 100%|██████████| 6000/6000 [00:01<00:00, 3631.64draws/s]\n",
      "The acceptance probability does not match the target. It is 0.8815072994823909, but should be close to 0.8. Try to increase the number of tuning steps.\n",
      "The number of effective samples is smaller than 25% for some parameters.\n"
     ]
    }
   ],
   "source": [
    "with model_exp:\n",
    "    # fit the model\n",
    "    trace_exp = pm.sample(1000)"
   ]
  },
  {
   "cell_type": "code",
   "execution_count": 19,
   "id": "8ee36b52-7d45-4481-bfe8-4cb3e8532b02",
   "metadata": {},
   "outputs": [
    {
     "data": {
      "text/plain": [
       "Text(0.5, 0, 'Samples')"
      ]
     },
     "execution_count": 19,
     "metadata": {},
     "output_type": "execute_result"
    },
    {
     "data": {
      "image/png": "[encoded data removed]",
      "text/plain": [
       "<Figure size 432x288 with 2 Axes>"
      ]
     },
     "metadata": {
      "needs_background": "light"
     },
     "output_type": "display_data"
    }
   ],
   "source": [
    "fig, axs = plt.subplots(nrows=2)\n",
    "\n",
    "ax = axs[0]\n",
    "ax.plot(range(len(trace_exp['kr'])), trace_exp['kr'])\n",
    "ax.set_xlabel('Iterations')\n",
    "ax.set_xlabel('Samples')\n",
    "\n",
    "ax = axs[1]\n",
    "ax.plot(range(len(trace_exp['k0'])), trace_exp['k0'])\n",
    "ax.set_xlabel('Iterations')\n",
    "ax.set_xlabel('Samples')"
   ]
  },
  {
   "cell_type": "code",
   "execution_count": 20,
   "id": "534fa371-59d8-4ba5-af4b-65e44974dd89",
   "metadata": {},
   "outputs": [
    {
     "data": {
      "text/plain": [
       "Text(0, 0.5, 'Density')"
      ]
     },
     "execution_count": 20,
     "metadata": {},
     "output_type": "execute_result"
    },
    {
     "data": {
      "image/png": "[encoded data removed]",
      "text/plain": [
       "<Figure size 720x360 with 2 Axes>"
      ]
     },
     "metadata": {
      "needs_background": "light"
     },
     "output_type": "display_data"
    }
   ],
   "source": [
    "fig, axs = plt.subplots(ncols=2, figsize=(10,5))\n",
    "\n",
    "ax = axs[0]\n",
    "ymax = 0.35\n",
    "ax.hist(trace_exp['kr'], label='posterior', bins='auto', density=True)\n",
    "ax.vlines(kr_exp, 0, ymax, color='red', label='$k_r$ truth')\n",
    "ax.vlines(map_estimate_exp['kr'], 0, ymax, color='red', linestyle='--', label='$k_r$ MAP')\n",
    "ax.legend();\n",
    "ax.set_xlabel('$k_r$')\n",
    "ax.set_ylabel('Density')\n",
    "\n",
    "ax = axs[1]\n",
    "ymax = 0.6\n",
    "ax.hist(trace_exp['k0'], label='posterior', bins='auto', density=True)\n",
    "ax.vlines(k0_exp, 0, ymax, color='red', label='$k_0$ truth')\n",
    "ax.vlines(map_estimate_exp['k0'], 0, ymax, color='red', linestyle='--', label='$k_0$ MAP')\n",
    "ax.legend();\n",
    "ax.set_xlabel('$k_0$')\n",
    "ax.set_ylabel('Density')"
   ]
  },
  {
   "cell_type": "markdown",
   "id": "11ba85a5-023e-4bbe-8dd1-64f8067aecfc",
   "metadata": {},
   "source": [
    "# Custom likelihood"
   ]
  },
  {
   "cell_type": "code",
   "execution_count": 21,
   "id": "7f868bce-e1bc-4efc-a1d1-fa3b6c66beb2",
   "metadata": {},
   "outputs": [],
   "source": [
    "def log_like_poisson_rgg(y, D, kr, k0):\n",
    "    F_D = k0*tt.exp(-kr * D)\n",
    "    return tt.sum(y*tt.log(F_D) - F_D)"
   ]
  },
  {
   "cell_type": "code",
   "execution_count": 22,
   "id": "e81165a9-fc16-480c-ba41-cd8f8c19d928",
   "metadata": {},
   "outputs": [],
   "source": [
    "with pm.Model() as model_exp_custom_ll:\n",
    "    kr_custom_ll = pm.Uniform('kr', 0, 100)\n",
    "    k0_custom_ll = pm.Uniform('k0', 0, 100)\n",
    "    ll = pm.DensityDist('ll', log_like_poisson_rgg, \n",
    "                        observed=dict(y=adj_filter, D=distances_filter, \n",
    "                                      kr=kr_custom_ll, k0=k0_custom_ll,\n",
    "                                     )\n",
    "                       )"
   ]
  },
  {
   "cell_type": "code",
   "execution_count": 23,
   "id": "df06355f-9004-42d1-a511-4744088522bc",
   "metadata": {},
   "outputs": [
    {
     "name": "stderr",
     "output_type": "stream",
     "text": [
      "/home/juvid/miniconda3/envs/kolgraph/lib/python3.7/site-packages/pymc3/tuning/starting.py:61: UserWarning: find_MAP should not be used to initialize the NUTS sampler, simply call pymc3.sample() and it will automatically initialize NUTS in a better way.\n",
      "  warnings.warn('find_MAP should not be used to initialize the NUTS sampler, simply call pymc3.sample() and it will automatically initialize NUTS in a better way.')\n",
      "logp = -38.085, ||grad|| = 3.0368: 100%|██████████| 19/19 [00:00<00:00, 2331.12it/s]  \n"
     ]
    }
   ],
   "source": [
    "map_estimate_exp_custom_ll = pm.find_MAP(model=model_exp_custom_ll)"
   ]
  },
  {
   "cell_type": "code",
   "execution_count": 24,
   "id": "e8c944b1-ce8a-49fa-b276-69888110a94a",
   "metadata": {},
   "outputs": [
    {
     "name": "stderr",
     "output_type": "stream",
     "text": [
      "Auto-assigning NUTS sampler...\n",
      "Initializing NUTS using jitter+adapt_diag...\n",
      "Multiprocess sampling (4 chains in 4 jobs)\n",
      "NUTS: [k0, kr]\n",
      "Sampling 4 chains: 100%|██████████| 6000/6000 [00:01<00:00, 3982.55draws/s]\n",
      "There was 1 divergence after tuning. Increase `target_accept` or reparameterize.\n",
      "The acceptance probability does not match the target. It is 0.6890735586833415, but should be close to 0.8. Try to increase the number of tuning steps.\n",
      "The number of effective samples is smaller than 25% for some parameters.\n"
     ]
    }
   ],
   "source": [
    "with model_exp_custom_ll:\n",
    "    trace_exp_custom_ll = pm.sample(1000)"
   ]
  },
  {
   "cell_type": "code",
   "execution_count": 25,
   "id": "3cc21b5a-1b15-4bf0-bdfb-35da905302e7",
   "metadata": {},
   "outputs": [
    {
     "data": {
      "text/plain": [
       "Text(0, 0.5, 'Density')"
      ]
     },
     "execution_count": 25,
     "metadata": {},
     "output_type": "execute_result"
    },
    {
     "data": {
      "image/png": "[encoded data removed]",
      "text/plain": [
       "<Figure size 720x360 with 2 Axes>"
      ]
     },
     "metadata": {
      "needs_background": "light"
     },
     "output_type": "display_data"
    }
   ],
   "source": [
    "fig, axs = plt.subplots(ncols=2, figsize=(10,5))\n",
    "\n",
    "ax = axs[0]\n",
    "ymax = 0.35\n",
    "ax.hist(trace_exp['kr'], bins='auto', density=True, label='posterior (pymc3 API)', alpha=0.5)\n",
    "ax.hist(trace_exp_custom_ll['kr'], bins='auto', density=True, label='posterior (custom likelihood)', alpha=0.5)\n",
    "ax.vlines(kr_exp, 0, ymax, color='red', label='$k_r$ truth')\n",
    "ax.vlines(map_estimate_exp['kr'], 0, ymax, color='red', linestyle='--', label='$k_r$ MAP')\n",
    "ax.legend();\n",
    "ax.set_xlabel('$k_r$')\n",
    "ax.set_ylabel('Density')\n",
    "\n",
    "ax = axs[1]\n",
    "ymax = 0.7\n",
    "ax.hist(trace_exp['k0'], bins='auto', density=True, label='posterior (pymc3 API)', alpha=0.5)\n",
    "ax.hist(trace_exp_custom_ll['k0'], bins='auto', density=True, label='posterior (custom likelihood)', alpha=0.5)\n",
    "ax.vlines(k0_exp, 0, ymax, color='red', label='$k_0$ truth')\n",
    "ax.vlines(map_estimate_exp['k0'], 0, ymax, color='red', linestyle='--', label='$k_0$ MAP')\n",
    "ax.legend();\n",
    "ax.set_xlabel('$k_0$')\n",
    "ax.set_ylabel('Density')"
   ]
  },
  {
   "cell_type": "code",
   "execution_count": null,
   "id": "c17b6a84-104b-4372-8672-57e8277efc23",
   "metadata": {},
   "outputs": [],
   "source": []
  }
 ],
 "metadata": {
  "kernelspec": {
   "display_name": "Python 3",
   "language": "python",
   "name": "python3"
  },
  "language_info": {
   "codemirror_mode": {
    "name": "ipython",
    "version": 3
   },
   "file_extension": ".py",
   "mimetype": "text/x-python",
   "name": "python",
   "nbconvert_exporter": "python",
   "pygments_lexer": "ipython3",
   "version": "3.7.11"
  }
 },
 "nbformat": 4,
 "nbformat_minor": 5
}

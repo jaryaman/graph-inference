{
 "cells": [
  {
   "cell_type": "markdown",
   "id": "5c1fccb6-30a1-4363-96f7-22007cdf9afe",
   "metadata": {},
   "source": [
    "# Stan reference material\n",
    "\n",
    "https://mc-stan.org/docs/2_27/stan-users-guide\n",
    "\n",
    "https://mc-stan.org/docs/2_27/reference-manual\n",
    "\n",
    "https://mc-stan.org/docs/2_27/functions-reference"
   ]
  },
  {
   "cell_type": "code",
   "execution_count": null,
   "id": "ad702fd0-767c-40ee-a1ca-8879a47706e8",
   "metadata": {},
   "outputs": [],
   "source": []
  }
 ],
 "metadata": {
  "kernelspec": {
   "display_name": "Python 3",
   "language": "python",
   "name": "python3"
  },
  "language_info": {
   "codemirror_mode": {
    "name": "ipython",
    "version": 3
   },
   "file_extension": ".py",
   "mimetype": "text/x-python",
   "name": "python",
   "nbconvert_exporter": "python",
   "pygments_lexer": "ipython3",
   "version": "3.7.11"
  }
 },
 "nbformat": 4,
 "nbformat_minor": 5
}

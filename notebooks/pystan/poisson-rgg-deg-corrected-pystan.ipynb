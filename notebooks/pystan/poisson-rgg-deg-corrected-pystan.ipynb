{
 "cells": [
  {
   "cell_type": "markdown",
   "id": "7474ab6a-cb65-48dc-a18c-a0e9107bd2dd",
   "metadata": {},
   "source": [
    "# Simulation and inference of degree-corrected Poisson RGG\n",
    "\n",
    "$$P(G|D, \\theta, k) = \\prod_{i<j} \\frac{(k_i k_j \\mathcal{F}(D_{ij}, \\theta))^{A_{ij}}}{A_{ij}!} \\exp(- k_i k_j \\mathcal{F}(D_{ij}, \\theta))$$"
   ]
  },
  {
   "cell_type": "code",
   "execution_count": null,
   "id": "ab7d841d-a1e2-4095-85e8-ea1cec48b581",
   "metadata": {},
   "outputs": [],
   "source": [
    "%load_ext autoreload\n",
    "%autoreload 2\n",
    "%matplotlib inline"
   ]
  },
  {
   "cell_type": "code",
   "execution_count": null,
   "id": "bfec614d-7d24-42f8-84bf-7dd371a75b90",
   "metadata": {},
   "outputs": [],
   "source": [
    "import sys\n",
    "sys.path.append('../../utils')"
   ]
  },
  {
   "cell_type": "code",
   "execution_count": null,
   "id": "21553cda-9ada-4b6e-8c57-31483bb12d50",
   "metadata": {},
   "outputs": [],
   "source": [
    "from graphs import (get_independent_components_rgg, make_inter_vertex_distances, \n",
    "                    deg_corrected_poissonian_random_geometric_graph)"
   ]
  },
  {
   "cell_type": "code",
   "execution_count": null,
   "id": "ba592d43-e906-42c4-af50-bc9365876428",
   "metadata": {},
   "outputs": [],
   "source": [
    "from plot import plot_multigraph\n",
    "from networkx.linalg.graphmatrix import adjacency_matrix\n",
    "import networkx as nx\n",
    "import matplotlib.pyplot as plt\n",
    "import numpy as np\n",
    "import math\n",
    "import arviz as az"
   ]
  },
  {
   "cell_type": "code",
   "execution_count": null,
   "id": "ffa4b6c4-5261-4f5c-aa4f-719b0fad3956",
   "metadata": {},
   "outputs": [],
   "source": [
    "import nest_asyncio\n",
    "nest_asyncio.apply()\n",
    "import stan"
   ]
  },
  {
   "cell_type": "code",
   "execution_count": null,
   "id": "fdc861bb-75ee-44f6-ad24-d7e5e868d52a",
   "metadata": {},
   "outputs": [],
   "source": [
    "SEED = 42\n",
    "n = 10\n",
    "dim = 2"
   ]
  },
  {
   "cell_type": "code",
   "execution_count": null,
   "id": "e783d769-dd87-4972-8900-06cb40d22698",
   "metadata": {},
   "outputs": [],
   "source": [
    "lambda_r_truth = 2\n",
    "exponential_kernel = lambda dist, ki, kj: ki * kj * math.exp(-lambda_r_truth * dist)"
   ]
  },
  {
   "cell_type": "code",
   "execution_count": null,
   "id": "e5a29923-1577-4aad-b77c-9a516368f169",
   "metadata": {},
   "outputs": [],
   "source": [
    "kolness_truth = np.ones(n)\n",
    "kolness_truth[0] = 10"
   ]
  },
  {
   "cell_type": "code",
   "execution_count": null,
   "id": "98cf3350-d5ab-471b-8524-9b00ef2ac1a1",
   "metadata": {},
   "outputs": [],
   "source": [
    "r = np.random.RandomState(SEED)\n",
    "G_poisson = deg_corrected_poissonian_random_geometric_graph(\n",
    "    n, 1000, kolness_truth, exponential_kernel, r, \n",
    ")"
   ]
  },
  {
   "cell_type": "code",
   "execution_count": null,
   "id": "3caf191b-95fd-4655-94d9-2181d045a6a1",
   "metadata": {},
   "outputs": [],
   "source": [
    "adj = adjacency_matrix(G_poisson)\n",
    "adj = adj.toarray()"
   ]
  },
  {
   "cell_type": "code",
   "execution_count": null,
   "id": "fb6de242-3b98-424d-88e2-a0d224fca428",
   "metadata": {},
   "outputs": [],
   "source": [
    "ax = plot_multigraph(G_poisson)"
   ]
  },
  {
   "cell_type": "code",
   "execution_count": null,
   "id": "4b31016a-f01f-4770-8d46-d6a76c8b6cc4",
   "metadata": {},
   "outputs": [],
   "source": [
    "distances = make_inter_vertex_distances(G_poisson)"
   ]
  },
  {
   "cell_type": "markdown",
   "id": "15cd877d-fc83-4440-8626-d488e475c99f",
   "metadata": {},
   "source": [
    "## Inference"
   ]
  },
  {
   "cell_type": "code",
   "execution_count": null,
   "id": "42ac67ef-f13d-40e4-8811-4aaea33315ad",
   "metadata": {},
   "outputs": [],
   "source": [
    "from scipy.stats import expon"
   ]
  },
  {
   "cell_type": "code",
   "execution_count": null,
   "id": "9aa57bca-34d4-4ffb-b8c2-abdfdd34ac33",
   "metadata": {},
   "outputs": [],
   "source": [
    "x = np.linspace(0,40)\n",
    "pdf = expon.pdf(x, scale = 1./0.1)\n",
    "plt.plot(x, pdf)"
   ]
  },
  {
   "cell_type": "code",
   "execution_count": null,
   "id": "936200bb-7c56-4ec8-92cb-117490d1245e",
   "metadata": {},
   "outputs": [],
   "source": [
    "def make_dc_poisson_rgg_model(n_physicians):\n",
    "    model = f\"\"\"\n",
    "    data {{\n",
    "        array[{n_physicians}, {n_physicians}] real<lower=0> distances;\n",
    "        array[{n_physicians}, {n_physicians}] int<lower=0> adj;                                \n",
    "    }}\n",
    "    parameters {{\n",
    "        real<lower=0> lambda_r;        \n",
    "        array[{n_physicians}] real<lower=0> kolness;\n",
    "    }}\n",
    "    transformed parameters {{\n",
    "        array[{n_physicians}, {n_physicians}] real<lower=0> conn_kernel;\n",
    "        for (i in 1:{n_physicians})\n",
    "            for (j in 1:{n_physicians})\n",
    "                conn_kernel[i,j] = kolness[i] * kolness[j] * exp(-lambda_r * distances[i,j]);  \n",
    "    }}\n",
    "    model {{        \n",
    "        lambda_r ~ exponential(0.1);\n",
    "        kolness ~ exponential(0.1);\n",
    "        \n",
    "        for (i in 1:{n_physicians})\n",
    "            for (j in i+1:{n_physicians})        \n",
    "                adj[i,j] ~ poisson(conn_kernel[i,j]);        \n",
    "    }}\n",
    "    \"\"\"\n",
    "    return model"
   ]
  },
  {
   "cell_type": "code",
   "execution_count": null,
   "id": "81cbf65c-da11-4b66-a14b-11aed3d9a010",
   "metadata": {},
   "outputs": [],
   "source": [
    "poisson_rgg_model_dc = make_dc_poisson_rgg_model(n)"
   ]
  },
  {
   "cell_type": "code",
   "execution_count": null,
   "id": "22817483-f31b-4a2a-99d6-39c2c041ed34",
   "metadata": {},
   "outputs": [],
   "source": [
    "poisson_rgg_data = {'distances': distances, 'adj': adj}"
   ]
  },
  {
   "cell_type": "code",
   "execution_count": null,
   "id": "62e21704-9f8f-4d4c-a9ec-00db3e95c7f6",
   "metadata": {},
   "outputs": [],
   "source": [
    "posterior = stan.build(poisson_rgg_model_dc, data=poisson_rgg_data, random_seed=SEED)"
   ]
  },
  {
   "cell_type": "code",
   "execution_count": null,
   "id": "d712fe79-c637-44ab-addb-65b2d52c0a4d",
   "metadata": {},
   "outputs": [],
   "source": [
    "fit = posterior.sample(num_chains=4, num_samples=1000)"
   ]
  },
  {
   "cell_type": "code",
   "execution_count": null,
   "id": "4df663e2-87ed-4a04-a7cb-eb59d4e8881e",
   "metadata": {},
   "outputs": [],
   "source": [
    "inferred = az.from_pystan(fit)"
   ]
  },
  {
   "cell_type": "code",
   "execution_count": null,
   "id": "bc8f2357-31e2-4176-bcdf-abd4699c82e9",
   "metadata": {},
   "outputs": [],
   "source": [
    "summary = az.summary(inferred, var_names = ['lambda_r', 'kolness'])\n",
    "summary"
   ]
  },
  {
   "cell_type": "code",
   "execution_count": null,
   "id": "cea61a2e-a631-4121-b748-6a1a88af81ec",
   "metadata": {},
   "outputs": [],
   "source": [
    "az.plot_trace(inferred, var_names = ['lambda_r', 'kolness']);"
   ]
  },
  {
   "cell_type": "code",
   "execution_count": null,
   "id": "013b172f-3b3f-4647-a98f-bea44e6240b4",
   "metadata": {},
   "outputs": [],
   "source": [
    "[{'ref_val':ki} for i, ki in enumerate(kolness_truth)]"
   ]
  },
  {
   "cell_type": "code",
   "execution_count": null,
   "id": "1577331b-5fe5-409d-9aa5-00364f12ac7f",
   "metadata": {},
   "outputs": [],
   "source": [
    "az.plot_posterior(inferred, var_names = ['lambda_r', 'kolness'], ref_val = [lambda_r_truth] + list(kolness_truth));"
   ]
  },
  {
   "cell_type": "code",
   "execution_count": null,
   "id": "78311010-99cb-430c-a8fa-dd0847b7b4fd",
   "metadata": {},
   "outputs": [],
   "source": [
    "fig, ax = plt.subplots()\n",
    "ax.plot(kolness_truth, summary.loc[[f'kolness[{i}]' for i in range(n)], 'mean'], '.k')\n",
    "\n",
    "x = np.linspace(0,max(kolness_truth))\n",
    "ax.plot(x, x, '-r', label='identity')\n",
    "ax.axis('square')\n",
    "\n",
    "ax.set_xlabel('Truth')\n",
    "ax.set_ylabel('Posterior mean')"
   ]
  },
  {
   "cell_type": "markdown",
   "id": "0d272032-09f2-4177-937b-acc0a6c8c845",
   "metadata": {},
   "source": [
    "## Large numbers of physicians"
   ]
  },
  {
   "cell_type": "code",
   "execution_count": null,
   "id": "d7dd7785-f3b8-4a8b-bb51-ca60a2854350",
   "metadata": {},
   "outputs": [],
   "source": [
    "from seaborn import heatmap"
   ]
  },
  {
   "cell_type": "code",
   "execution_count": null,
   "id": "5e01835a-ef89-442d-9262-a998c2362244",
   "metadata": {},
   "outputs": [],
   "source": [
    "r = np.random.RandomState(SEED)\n",
    "\n",
    "n = 100  # number of physicians\n",
    "n_kol = 10  # number of KOLs\n",
    "\n",
    "kolness_truth = np.ones(n)\n",
    "kolness_truth[:n_kol] = r.uniform(3,7, size=n_kol)\n",
    "\n",
    "G_poisson = deg_corrected_poissonian_random_geometric_graph(\n",
    "    n, 1000, kolness_truth, exponential_kernel, r, \n",
    ")\n",
    "\n",
    "adj = adjacency_matrix(G_poisson)\n",
    "adj = adj.toarray()\n",
    "\n",
    "distances = make_inter_vertex_distances(G_poisson)"
   ]
  },
  {
   "cell_type": "code",
   "execution_count": null,
   "id": "54d475da-8748-4e7e-9c24-bcc9b79694d9",
   "metadata": {},
   "outputs": [],
   "source": [
    "kolness_truth"
   ]
  },
  {
   "cell_type": "code",
   "execution_count": null,
   "id": "11e18eb3-3377-4790-8cbb-6c0fa807e6b2",
   "metadata": {},
   "outputs": [],
   "source": [
    "heatmap(adj);"
   ]
  },
  {
   "cell_type": "code",
   "execution_count": null,
   "id": "8b008651-0885-4f17-a892-de2cc78af47f",
   "metadata": {},
   "outputs": [],
   "source": [
    "poisson_rgg_model_dc = make_dc_poisson_rgg_model(n)"
   ]
  },
  {
   "cell_type": "code",
   "execution_count": null,
   "id": "d61dc8a2-7f31-4948-8a28-1ebd6a9329d8",
   "metadata": {},
   "outputs": [],
   "source": [
    "poisson_rgg_data = {'distances': distances, 'adj': adj}"
   ]
  },
  {
   "cell_type": "code",
   "execution_count": null,
   "id": "583712da-89f9-436f-aee3-18462f27ab2b",
   "metadata": {},
   "outputs": [],
   "source": [
    "posterior = stan.build(poisson_rgg_model_dc, data=poisson_rgg_data, random_seed=SEED)"
   ]
  },
  {
   "cell_type": "code",
   "execution_count": null,
   "id": "7cc47a73-9a44-453f-87e1-2e2d9e81939b",
   "metadata": {},
   "outputs": [],
   "source": [
    "fit = posterior.sample(num_chains=4, num_samples=1000)"
   ]
  },
  {
   "cell_type": "code",
   "execution_count": null,
   "id": "e6da3942-887c-4aab-a01c-4214541ff7eb",
   "metadata": {},
   "outputs": [],
   "source": [
    "inferred = az.from_pystan(fit)"
   ]
  },
  {
   "cell_type": "code",
   "execution_count": null,
   "id": "af14d692-e016-446e-9437-73cae010b509",
   "metadata": {},
   "outputs": [],
   "source": [
    "summary = az.summary(inferred, var_names = ['lambda_r', 'kolness'])"
   ]
  },
  {
   "cell_type": "code",
   "execution_count": null,
   "id": "b6596dcf-360d-4168-ad72-33ecbd6cef3a",
   "metadata": {},
   "outputs": [],
   "source": [
    "az.plot_trace(inferred, var_names = ['lambda_r']);"
   ]
  },
  {
   "cell_type": "code",
   "execution_count": null,
   "id": "f9f70145-972c-4004-996d-077f10b3d5c0",
   "metadata": {},
   "outputs": [],
   "source": [
    "az.plot_posterior(inferred, var_names = ['lambda_r'], ref_val = [lambda_r_truth]);"
   ]
  },
  {
   "cell_type": "code",
   "execution_count": null,
   "id": "54c7040b-9502-4e0a-b95b-ba4df058c6c2",
   "metadata": {},
   "outputs": [],
   "source": [
    "fig, ax = plt.subplots()\n",
    "ax.plot(kolness_truth, summary.loc[[f'kolness[{i}]' for i in range(n)], 'mean'], '.k')\n",
    "\n",
    "x = np.linspace(0,max(kolness_truth))\n",
    "ax.plot(x, x, '-r', label='identity')\n",
    "ax.axis('square')\n",
    "\n",
    "ax.set_xlabel('KOLness (truth)')\n",
    "ax.set_ylabel('Inferred KOLness (Posterior mean)')\n",
    "ax.legend();"
   ]
  },
  {
   "cell_type": "code",
   "execution_count": null,
   "id": "ff239155-2a47-45b9-a08d-9fbf06a17a98",
   "metadata": {},
   "outputs": [],
   "source": []
  }
 ],
 "metadata": {
  "kernelspec": {
   "display_name": "Python 3",
   "language": "python",
   "name": "python3"
  },
  "language_info": {
   "codemirror_mode": {
    "name": "ipython",
    "version": 3
   },
   "file_extension": ".py",
   "mimetype": "text/x-python",
   "name": "python",
   "nbconvert_exporter": "python",
   "pygments_lexer": "ipython3",
   "version": "3.7.11"
  }
 },
 "nbformat": 4,
 "nbformat_minor": 5
}

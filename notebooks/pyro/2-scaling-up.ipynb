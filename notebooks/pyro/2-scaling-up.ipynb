{
 "cells": [
  {
   "cell_type": "markdown",
   "id": "3c3abb0e-1370-460a-a151-87b7457159b6",
   "metadata": {},
   "source": [
    "# MAP estimation for Poisson RGG"
   ]
  },
  {
   "cell_type": "code",
   "execution_count": null,
   "id": "affeb072-6a64-4d75-a6d7-c619ff8cb8d6",
   "metadata": {},
   "outputs": [],
   "source": [
    "%load_ext autoreload\n",
    "%autoreload 2\n",
    "%matplotlib inline"
   ]
  },
  {
   "cell_type": "code",
   "execution_count": null,
   "id": "709696d8-8e91-4a24-b37d-493274937418",
   "metadata": {},
   "outputs": [],
   "source": [
    "import sys\n",
    "sys.path.append('../../utils')"
   ]
  },
  {
   "cell_type": "code",
   "execution_count": null,
   "id": "422067df-2fe8-45bf-b8d2-e48ab3a82013",
   "metadata": {},
   "outputs": [],
   "source": [
    "from graphs import (get_independent_components_rgg, make_inter_vertex_distances, \n",
    "                    deg_corrected_poissonian_random_geometric_graph)"
   ]
  },
  {
   "cell_type": "code",
   "execution_count": null,
   "id": "102bfb11-a09b-4a07-86bb-fb3cd28faf5d",
   "metadata": {},
   "outputs": [],
   "source": [
    "from plot import plot_multigraph\n",
    "from networkx.linalg.graphmatrix import adjacency_matrix\n",
    "import networkx as nx\n",
    "import matplotlib.pyplot as plt\n",
    "import numpy as np\n",
    "import math\n",
    "from time import time\n",
    "import pandas as pd\n",
    "from tqdm import tqdm"
   ]
  },
  {
   "cell_type": "code",
   "execution_count": null,
   "id": "3391a32a-c431-4c07-b098-7ba610db5da6",
   "metadata": {},
   "outputs": [],
   "source": [
    "import pyro.distributions as dist\n",
    "import pyro\n",
    "from torch.distributions import constraints\n",
    "from pyro.optim import Adam\n",
    "from pyro.infer import SVI, Trace_ELBO\n",
    "import torch\n",
    "from pyro.infer.autoguide import AutoDelta"
   ]
  },
  {
   "cell_type": "code",
   "execution_count": null,
   "id": "d7b8be11-bb4b-4390-976c-2849e4e88cda",
   "metadata": {},
   "outputs": [],
   "source": [
    "SEED = 42\n",
    "n = 1000\n",
    "dim = 2"
   ]
  },
  {
   "cell_type": "markdown",
   "id": "db0b4e3b-1a62-4b98-95d5-ca14a618af27",
   "metadata": {},
   "source": [
    "## Make synthetic data"
   ]
  },
  {
   "cell_type": "code",
   "execution_count": null,
   "id": "5fd9b5c0-48cd-44ff-b15b-b9d3f79d081f",
   "metadata": {},
   "outputs": [],
   "source": [
    "lambda_r_truth = 2\n",
    "exponential_kernel = lambda dist, ki, kj: ki * kj * math.exp(-lambda_r_truth * dist)"
   ]
  },
  {
   "cell_type": "code",
   "execution_count": null,
   "id": "49b05cc9-f02f-446a-aa73-0b81e13e0120",
   "metadata": {},
   "outputs": [],
   "source": [
    "g = dist.Exponential(0.1).expand([n])"
   ]
  },
  {
   "cell_type": "code",
   "execution_count": null,
   "id": "a6c72075-eb79-456d-84b7-c2bad2d22400",
   "metadata": {},
   "outputs": [],
   "source": [
    "kolness_truth = g.rsample()"
   ]
  },
  {
   "cell_type": "code",
   "execution_count": null,
   "id": "209e652c-3e49-4a8c-944c-9bb838cc7c16",
   "metadata": {},
   "outputs": [],
   "source": [
    "r = np.random.RandomState(SEED)\n",
    "G_poisson = deg_corrected_poissonian_random_geometric_graph(\n",
    "    n, 1000, kolness_truth, exponential_kernel, r, \n",
    ")"
   ]
  },
  {
   "cell_type": "code",
   "execution_count": null,
   "id": "24411912-a461-4f68-aeac-3b6a9f789890",
   "metadata": {},
   "outputs": [],
   "source": [
    "adj = adjacency_matrix(G_poisson)\n",
    "adj = adj.toarray()"
   ]
  },
  {
   "cell_type": "code",
   "execution_count": null,
   "id": "4756605f-132f-4680-9016-1b83821c721b",
   "metadata": {},
   "outputs": [],
   "source": [
    "distances = make_inter_vertex_distances(G_poisson)"
   ]
  },
  {
   "cell_type": "code",
   "execution_count": null,
   "id": "80c04b88-fd3b-44e6-87d9-3c4effcc7a12",
   "metadata": {},
   "outputs": [],
   "source": [
    "adj = torch.tensor(adj)\n",
    "distances = torch.tensor(distances)"
   ]
  },
  {
   "cell_type": "markdown",
   "id": "dc2bde71-1ce3-42c7-8642-376288cafac3",
   "metadata": {},
   "source": [
    "## Do MAP estimation"
   ]
  },
  {
   "cell_type": "code",
   "execution_count": null,
   "id": "305c555f-e6a4-45de-9971-30f6bcd77193",
   "metadata": {},
   "outputs": [],
   "source": [
    "def dc_poisson_rgg_model(distances, adj):\n",
    "    n_nodes = adj.shape[0]\n",
    "    k = pyro.sample(\"kolness\", dist.Exponential(0.1).expand([n_nodes]).to_event(1))  # tell pyro that these are all dependent variables\n",
    "    lambda_r = pyro.sample(\"lambda_r\", dist.Exponential(0.1))\n",
    "    conn_kernel = torch.exp(-lambda_r*distances)\n",
    "    \n",
    "    r, c = torch.triu_indices(n_nodes, n_nodes, offset=1)    \n",
    "    \n",
    "    for i in pyro.plate(\"data_loop\", len(r)):\n",
    "        rate_i = k[r[i]]*k[c[i]]*conn_kernel[r[i],c[i]]\n",
    "        pyro.sample(f\"obs_{i}\", dist.Poisson(rate_i), obs=adj[r[i],c[i]]) "
   ]
  },
  {
   "cell_type": "code",
   "execution_count": null,
   "id": "cf493d1e-35f1-440f-9a30-d10406ff30ca",
   "metadata": {},
   "outputs": [],
   "source": [
    "dc_poisson_rgg_guide_map = AutoDelta(dc_poisson_rgg_model)"
   ]
  },
  {
   "cell_type": "code",
   "execution_count": null,
   "id": "5ef9d1f0-a9be-4c5b-b8a9-5743c6a1baf1",
   "metadata": {},
   "outputs": [],
   "source": [
    "def train(model, guide, data, lr=0.01, n_steps=100, mode = 'w', losses = None, svi = None):\n",
    "    if mode == 'w':\n",
    "        pyro.clear_param_store()\n",
    "        adam = pyro.optim.Adam({\"lr\": lr})\n",
    "        svi = SVI(model, guide, adam, loss=Trace_ELBO())\n",
    "    \n",
    "        losses = []\n",
    "    elif mode != 'a':        \n",
    "        raise ValueError('mode must be in (\"w\")')\n",
    "        \n",
    "    for step in tqdm(range(n_steps)):\n",
    "        loss = svi.step(**data)\n",
    "        losses.append(loss)        \n",
    "    \n",
    "    if mode == 'w':\n",
    "        return losses, svi"
   ]
  },
  {
   "cell_type": "code",
   "execution_count": null,
   "id": "477d9b5b-79cd-4a89-ba1b-ac685399b3e8",
   "metadata": {},
   "outputs": [],
   "source": [
    "data = {'distances':distances, 'adj': adj}"
   ]
  },
  {
   "cell_type": "markdown",
   "id": "b1ae965b-e225-4bcb-9633-b3187679255d",
   "metadata": {},
   "source": [
    "##"
   ]
  },
  {
   "cell_type": "code",
   "execution_count": null,
   "id": "f277ed97-ecea-402f-9d77-db45e772094f",
   "metadata": {},
   "outputs": [],
   "source": [
    "losses, svi = train(dc_poisson_rgg_model, dc_poisson_rgg_guide_map, data, n_steps=1)\n",
    "train(dc_poisson_rgg_model, dc_poisson_rgg_guide_map, data, n_steps=100, mode='a', losses=losses, svi=svi)"
   ]
  },
  {
   "cell_type": "code",
   "execution_count": null,
   "id": "227508df-4bab-4188-9dcf-231a4a96f444",
   "metadata": {},
   "outputs": [],
   "source": [
    "fig, ax = plt.subplots()\n",
    "ax.plot(losses)\n",
    "ax.set_title(\"ELBO\")\n",
    "ax.set_xlabel(\"step\")\n",
    "ax.set_ylabel(\"loss\");"
   ]
  },
  {
   "cell_type": "code",
   "execution_count": null,
   "id": "ea85aaf3-7717-4930-9a49-cac9db063821",
   "metadata": {},
   "outputs": [],
   "source": [
    "map_estimate = pd.DataFrame(zip(pyro.param('AutoDelta.kolness').tolist(), np.array(kolness_truth)), columns=['MAP', 'truth'])"
   ]
  },
  {
   "cell_type": "code",
   "execution_count": null,
   "id": "959ad466-5edf-4c24-a84e-b99036cdbf6e",
   "metadata": {},
   "outputs": [],
   "source": [
    "max_k = map_estimate.max().max()\n",
    "k_sp = np.linspace(0, max_k)\n",
    "\n",
    "fig, ax = plt.subplots()\n",
    "map_estimate.plot(x='truth', y='MAP', kind='scatter', ax=ax, color='black')\n",
    "ax.plot(k_sp, k_sp, '-r');\n",
    "ax.set_title('Parameter estimation: MAP vs truth')"
   ]
  },
  {
   "cell_type": "code",
   "execution_count": null,
   "id": "731308a5-aadb-4811-9746-3f591a998c70",
   "metadata": {},
   "outputs": [],
   "source": [
    "ranks = pd.DataFrame((map_estimate.MAP.argsort().argsort(), map_estimate.truth.argsort().argsort())).T\n",
    "\n",
    "fig, ax = plt.subplots()\n",
    "ranks.plot(x='truth', y='MAP', kind='scatter', ax=ax, color='black')\n",
    "ax.plot(range(len(ranks)), range(len(ranks)), '-r');\n",
    "ax.set_title('Kolness ranking: MAP vs truth')\n",
    "ax.set_xlabel('Kolness rank (truth)')\n",
    "ax.set_ylabel('Kolness rank (inferred)')"
   ]
  },
  {
   "cell_type": "markdown",
   "id": "d717a8cc-49e0-4264-a1d1-1ccf49bd844a",
   "metadata": {},
   "source": [
    "## Q: Does subsampling preserve ranking?"
   ]
  },
  {
   "cell_type": "code",
   "execution_count": null,
   "id": "0b3480a1-6f0e-47cd-a584-c3f7a34b0379",
   "metadata": {},
   "outputs": [],
   "source": [
    "def dc_poisson_rgg_model_subsample(distances, adj):\n",
    "    n_nodes = adj.shape[0]\n",
    "    k = pyro.sample(\"kolness\", dist.Exponential(0.1).expand([n_nodes]).to_event(1))  # tell pyro that these are all dependent variables\n",
    "    lambda_r = pyro.sample(\"lambda_r\", dist.Exponential(0.1))\n",
    "    conn_kernel = torch.exp(-lambda_r*distances)\n",
    "    \n",
    "    r, c = torch.triu_indices(n_nodes, n_nodes, offset=1)    \n",
    "    \n",
    "    with pyro.plate(\"data_loop\", size=len(r), subsample_size=int(len(r))) as i:\n",
    "        rate_i = k[r[i]]*k[c[i]]*conn_kernel[r[i],c[i]]\n",
    "        pyro.sample(f\"obs\", dist.Poisson(rate_i), obs=adj[r[i],c[i]]) "
   ]
  },
  {
   "cell_type": "code",
   "execution_count": null,
   "id": "4516b3b2-3f3c-493e-babd-bbe5ac1eaa22",
   "metadata": {},
   "outputs": [],
   "source": [
    "losses, svi = train(dc_poisson_rgg_model_subsample, dc_poisson_rgg_guide_map, data, n_steps=1000)"
   ]
  },
  {
   "cell_type": "code",
   "execution_count": null,
   "id": "0a94a97a-9740-4c21-8096-aa005edb5c56",
   "metadata": {},
   "outputs": [],
   "source": [
    "fig, ax = plt.subplots()\n",
    "ax.plot(losses)\n",
    "ax.set_title(\"ELBO\")\n",
    "ax.set_xlabel(\"step\")\n",
    "ax.set_ylabel(\"loss\");"
   ]
  },
  {
   "cell_type": "code",
   "execution_count": null,
   "id": "86341c52-1c2f-40cf-aacc-c47726646db1",
   "metadata": {},
   "outputs": [],
   "source": [
    "map_estimate = pd.DataFrame(zip(pyro.param('AutoDelta.kolness').tolist(), np.array(kolness_truth)), columns=['MAP', 'truth'])"
   ]
  },
  {
   "cell_type": "code",
   "execution_count": null,
   "id": "24904945-4048-4095-ab62-74b71e86f580",
   "metadata": {},
   "outputs": [],
   "source": [
    "max_k = map_estimate.max().max()\n",
    "k_sp = np.linspace(0, max_k)\n",
    "\n",
    "fig, ax = plt.subplots()\n",
    "map_estimate.plot(x='truth', y='MAP', kind='scatter', ax=ax, color='black')\n",
    "ax.plot(k_sp, k_sp, '-r');\n",
    "ax.set_title('Parameter estimation: MAP vs truth')"
   ]
  },
  {
   "cell_type": "code",
   "execution_count": null,
   "id": "ab41ef19-8a2e-43ff-a72b-03671814fec6",
   "metadata": {},
   "outputs": [],
   "source": [
    "ranks = pd.DataFrame((map_estimate.MAP.argsort().argsort(), map_estimate.truth.argsort().argsort())).T\n",
    "\n",
    "fig, ax = plt.subplots()\n",
    "ranks.plot(x='truth', y='MAP', kind='scatter', ax=ax, color='black')\n",
    "ax.plot(range(len(ranks)), range(len(ranks)), '-r');\n",
    "ax.set_title('Kolness ranking: MAP vs truth')\n",
    "ax.set_xlabel('Kolness rank (truth)')\n",
    "ax.set_ylabel('Kolness rank (inferred)')"
   ]
  },
  {
   "cell_type": "code",
   "execution_count": null,
   "id": "2f78797d-f056-495f-b1c6-45abd85115e6",
   "metadata": {},
   "outputs": [],
   "source": []
  }
 ],
 "metadata": {
  "kernelspec": {
   "display_name": "Python 3",
   "language": "python",
   "name": "python3"
  },
  "language_info": {
   "codemirror_mode": {
    "name": "ipython",
    "version": 3
   },
   "file_extension": ".py",
   "mimetype": "text/x-python",
   "name": "python",
   "nbconvert_exporter": "python",
   "pygments_lexer": "ipython3",
   "version": "3.9.7"
  }
 },
 "nbformat": 4,
 "nbformat_minor": 5
}

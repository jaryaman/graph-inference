{
 "cells": [
  {
   "cell_type": "markdown",
   "id": "3c3abb0e-1370-460a-a151-87b7457159b6",
   "metadata": {},
   "source": [
    "# MAP estimation for Poisson RGG"
   ]
  },
  {
   "cell_type": "code",
   "execution_count": 1,
   "id": "affeb072-6a64-4d75-a6d7-c619ff8cb8d6",
   "metadata": {},
   "outputs": [
    {
     "name": "stderr",
     "output_type": "stream",
     "text": [
      "\n",
      "Bad key backend.qt4 in file /etc/matplotlib/matplotlibrc, line 43 ('backend.qt4 : PyQt4        # PyQt4 | PySide')\n",
      "You probably need to get an updated matplotlibrc file from\n",
      "https://github.com/matplotlib/matplotlib/blob/v3.4.2/matplotlibrc.template\n",
      "or from the matplotlib source distribution\n"
     ]
    }
   ],
   "source": [
    "%load_ext autoreload\n",
    "%autoreload 2\n",
    "%matplotlib inline"
   ]
  },
  {
   "cell_type": "code",
   "execution_count": 2,
   "id": "709696d8-8e91-4a24-b37d-493274937418",
   "metadata": {},
   "outputs": [],
   "source": [
    "import sys\n",
    "sys.path.append('../utils')"
   ]
  },
  {
   "cell_type": "code",
   "execution_count": 3,
   "id": "422067df-2fe8-45bf-b8d2-e48ab3a82013",
   "metadata": {},
   "outputs": [],
   "source": [
    "from graphs import (get_independent_components_rgg, make_inter_vertex_distances, \n",
    "                    deg_corrected_poissonian_random_geometric_graph)"
   ]
  },
  {
   "cell_type": "code",
   "execution_count": 4,
   "id": "102bfb11-a09b-4a07-86bb-fb3cd28faf5d",
   "metadata": {},
   "outputs": [],
   "source": [
    "from plot import plot_multigraph\n",
    "from networkx.linalg.graphmatrix import adjacency_matrix\n",
    "import networkx as nx\n",
    "import matplotlib.pyplot as plt\n",
    "import numpy as np\n",
    "import math\n",
    "from time import time\n",
    "import pandas as pd\n",
    "from tqdm import tqdm"
   ]
  },
  {
   "cell_type": "code",
   "execution_count": 5,
   "id": "3391a32a-c431-4c07-b098-7ba610db5da6",
   "metadata": {},
   "outputs": [],
   "source": [
    "import pyro.distributions as dist\n",
    "import pyro\n",
    "from torch.distributions import constraints\n",
    "from pyro.optim import Adam\n",
    "from pyro.infer import SVI, Trace_ELBO\n",
    "import torch\n",
    "from pyro.infer.autoguide import AutoDelta"
   ]
  },
  {
   "cell_type": "code",
   "execution_count": 6,
   "id": "7edaab77-ed79-44eb-8a62-c1f3ee68ae8f",
   "metadata": {},
   "outputs": [],
   "source": [
    "lambda_r_truth = 2"
   ]
  },
  {
   "cell_type": "code",
   "execution_count": 7,
   "id": "d7b8be11-bb4b-4390-976c-2849e4e88cda",
   "metadata": {},
   "outputs": [],
   "source": [
    "SEED = 42\n",
    "n = 5000\n",
    "dim = 2\n",
    "\n",
    "MAKE_SYNTH = False"
   ]
  },
  {
   "cell_type": "markdown",
   "id": "db0b4e3b-1a62-4b98-95d5-ca14a618af27",
   "metadata": {},
   "source": [
    "## Make/load synthetic data"
   ]
  },
  {
   "cell_type": "code",
   "execution_count": 8,
   "id": "5fd9b5c0-48cd-44ff-b15b-b9d3f79d081f",
   "metadata": {},
   "outputs": [],
   "source": [
    "exponential_kernel = lambda dist, ki, kj: ki * kj * math.exp(-lambda_r_truth * dist)"
   ]
  },
  {
   "cell_type": "code",
   "execution_count": 9,
   "id": "2e213463-b6cf-4b6a-8283-c69f83aba1d0",
   "metadata": {},
   "outputs": [],
   "source": [
    "if MAKE_SYNTH:\n",
    "\n",
    "    g = dist.Exponential(0.1).expand([n])\n",
    "\n",
    "    kolness_truth = g.rsample()\n",
    "\n",
    "    r = np.random.RandomState(SEED)\n",
    "    G_poisson = deg_corrected_poissonian_random_geometric_graph(\n",
    "        n, 1000, kolness_truth, exponential_kernel, r, \n",
    "    )\n",
    "\n",
    "    adj = adjacency_matrix(G_poisson)\n",
    "    \n",
    "    adj = adj.tocoo()\n",
    "    values = adj.data\n",
    "    indices = np.vstack((adj.row, adj.col))\n",
    "    \n",
    "    i = torch.LongTensor(indices)\n",
    "    v = torch.FloatTensor(values)\n",
    "    shape = adj.shape\n",
    "\n",
    "    adj = torch.sparse.IntTensor(i, v, torch.Size(shape))    \n",
    "    torch.save(adj, f'data/adj_{n}_nodes.pickle')\n",
    "    print('adj saved')\n",
    "\n",
    "    distances = make_inter_vertex_distances(G_poisson)\n",
    "    torch.save(distances, f'data/distances_{n}_nodes.pickle')\n",
    "    print('distances saved')\n",
    "    \n",
    "    torch.save(kolness_truth, f'data/kolness_truth_{n}.pickle')\n",
    "    print('kolness saved')\n",
    "else:\n",
    "    adj = torch.load(f'data/adj_{n}_nodes.pickle')\n",
    "    distances = torch.load(f'data/distances_{n}_nodes.pickle')\n",
    "    kolness_truth = torch.load(f'data/kolness_truth_{n}.pickle')\n",
    "    \n",
    "adj = adj.to_dense()  # can't do inference with sparse currently"
   ]
  },
  {
   "cell_type": "markdown",
   "id": "dc2bde71-1ce3-42c7-8642-376288cafac3",
   "metadata": {},
   "source": [
    "## MAP estimation"
   ]
  },
  {
   "cell_type": "code",
   "execution_count": 10,
   "id": "305c555f-e6a4-45de-9971-30f6bcd77193",
   "metadata": {},
   "outputs": [],
   "source": [
    "def dc_poisson_rgg_model(distances, adj):\n",
    "    n_nodes = adj.shape[0]\n",
    "    k = pyro.sample(\"kolness\", dist.Exponential(0.1).expand([n_nodes]).to_event(1))  # tell pyro that these are all dependent variables\n",
    "    lambda_r = pyro.sample(\"lambda_r\", dist.Exponential(0.1))\n",
    "    conn_kernel = torch.exp(-lambda_r*distances)\n",
    "    \n",
    "    r, c = torch.triu_indices(n_nodes, n_nodes, offset=1)    \n",
    "    \n",
    "    with pyro.plate(\"data_loop\", len(r)) as i:\n",
    "        rate_i = k[r[i]]*k[c[i]]*conn_kernel[r[i],c[i]]\n",
    "        pyro.sample(f\"obs\", dist.Poisson(rate_i), obs=adj[r[i],c[i]]) "
   ]
  },
  {
   "cell_type": "code",
   "execution_count": 11,
   "id": "cf493d1e-35f1-440f-9a30-d10406ff30ca",
   "metadata": {},
   "outputs": [],
   "source": [
    "dc_poisson_rgg_guide_map = AutoDelta(dc_poisson_rgg_model)"
   ]
  },
  {
   "cell_type": "code",
   "execution_count": 12,
   "id": "5ef9d1f0-a9be-4c5b-b8a9-5743c6a1baf1",
   "metadata": {},
   "outputs": [],
   "source": [
    "def train(model, guide, data, lr=0.01, n_steps=100, mode = 'w', losses = None, svi = None):\n",
    "    if mode == 'w':\n",
    "        pyro.clear_param_store()\n",
    "        adam = pyro.optim.Adam({\"lr\": lr})\n",
    "        svi = SVI(model, guide, adam, loss=Trace_ELBO())\n",
    "    \n",
    "        losses = []\n",
    "    elif mode != 'a':        \n",
    "        raise ValueError('mode must be in (\"w\")')\n",
    "        \n",
    "    for step in tqdm(range(n_steps)):\n",
    "        loss = svi.step(**data)\n",
    "        losses.append(loss)        \n",
    "    \n",
    "    if mode == 'w':\n",
    "        return losses, svi"
   ]
  },
  {
   "cell_type": "code",
   "execution_count": 13,
   "id": "477d9b5b-79cd-4a89-ba1b-ac685399b3e8",
   "metadata": {},
   "outputs": [],
   "source": [
    "data = {'distances':distances, 'adj': adj}"
   ]
  },
  {
   "cell_type": "markdown",
   "id": "b1ae965b-e225-4bcb-9633-b3187679255d",
   "metadata": {},
   "source": [
    "## MAP estimation on full data"
   ]
  },
  {
   "cell_type": "code",
   "execution_count": 14,
   "id": "f277ed97-ecea-402f-9d77-db45e772094f",
   "metadata": {},
   "outputs": [
    {
     "name": "stderr",
     "output_type": "stream",
     "text": [
      "100%|█████████████████████████████████████████████| 1/1 [00:01<00:00,  1.21s/it]\n",
      "100%|███████████████████████████████████████| 1000/1000 [11:45<00:00,  1.42it/s]\n"
     ]
    }
   ],
   "source": [
    "losses, svi = train(dc_poisson_rgg_model, dc_poisson_rgg_guide_map, data, n_steps=1)\n",
    "train(dc_poisson_rgg_model, dc_poisson_rgg_guide_map, data, n_steps=1000, mode='a', losses=losses, svi=svi)"
   ]
  },
  {
   "cell_type": "code",
   "execution_count": 15,
   "id": "227508df-4bab-4188-9dcf-231a4a96f444",
   "metadata": {},
   "outputs": [
    {
     "data": {
      "image/png": "[encoded data removed]",
      "text/plain": [
       "<Figure size 432x288 with 1 Axes>"
      ]
     },
     "metadata": {
      "needs_background": "light"
     },
     "output_type": "display_data"
    }
   ],
   "source": [
    "fig, ax = plt.subplots()\n",
    "ax.plot(losses)\n",
    "ax.set_title(\"ELBO\")\n",
    "ax.set_xlabel(\"step\")\n",
    "ax.set_ylabel(\"loss\");"
   ]
  },
  {
   "cell_type": "code",
   "execution_count": 16,
   "id": "ea85aaf3-7717-4930-9a49-cac9db063821",
   "metadata": {},
   "outputs": [],
   "source": [
    "map_estimate = pd.DataFrame(zip(pyro.param('AutoDelta.kolness').tolist(), np.array(kolness_truth)), columns=['MAP', 'truth'])"
   ]
  },
  {
   "cell_type": "code",
   "execution_count": 17,
   "id": "959ad466-5edf-4c24-a84e-b99036cdbf6e",
   "metadata": {},
   "outputs": [
    {
     "data": {
      "image/png": "[encoded data removed]",
      "text/plain": [
       "<Figure size 432x288 with 1 Axes>"
      ]
     },
     "metadata": {
      "needs_background": "light"
     },
     "output_type": "display_data"
    }
   ],
   "source": [
    "max_k = map_estimate.max().max()\n",
    "k_sp = np.linspace(0, max_k)\n",
    "\n",
    "fig, ax = plt.subplots()\n",
    "map_estimate.plot(x='truth', y='MAP', kind='scatter', ax=ax, color='black',  s=3)\n",
    "ax.plot(k_sp, k_sp, '-r');\n",
    "ax.set_title(f'Parameter estimation: MAP vs truth, N={n}');"
   ]
  },
  {
   "cell_type": "code",
   "execution_count": 18,
   "id": "731308a5-aadb-4811-9746-3f591a998c70",
   "metadata": {},
   "outputs": [
    {
     "data": {
      "text/plain": [
       "Text(0, 0.5, 'Kolness rank (inferred)')"
      ]
     },
     "execution_count": 18,
     "metadata": {},
     "output_type": "execute_result"
    },
    {
     "data": {
      "image/png": "[encoded data removed]",
      "text/plain": [
       "<Figure size 432x288 with 1 Axes>"
      ]
     },
     "metadata": {
      "needs_background": "light"
     },
     "output_type": "display_data"
    }
   ],
   "source": [
    "ranks = pd.DataFrame((map_estimate.MAP.argsort().argsort(), map_estimate.truth.argsort().argsort())).T\n",
    "\n",
    "fig, ax = plt.subplots()\n",
    "ranks.plot(x='truth', y='MAP', kind='scatter', ax=ax, color='black', s=1)\n",
    "ax.plot(range(len(ranks)), range(len(ranks)), '-r');\n",
    "ax.set_title(f'Kolness ranking: MAP vs truth, N={n}')\n",
    "ax.set_xlabel('Kolness rank (truth)')\n",
    "ax.set_ylabel('Kolness rank (inferred)')"
   ]
  },
  {
   "cell_type": "markdown",
   "id": "d717a8cc-49e0-4264-a1d1-1ccf49bd844a",
   "metadata": {},
   "source": [
    "## MAP estimation on subsample"
   ]
  },
  {
   "cell_type": "code",
   "execution_count": 19,
   "id": "0b3480a1-6f0e-47cd-a584-c3f7a34b0379",
   "metadata": {},
   "outputs": [],
   "source": [
    "def dc_poisson_rgg_model_subsample(distances, adj):\n",
    "    n_nodes = adj.shape[0]\n",
    "    k = pyro.sample(\"kolness\", dist.Exponential(0.1).expand([n_nodes]).to_event(1))  # tell pyro that these are all dependent variables\n",
    "    lambda_r = pyro.sample(\"lambda_r\", dist.Exponential(0.1))\n",
    "    conn_kernel = torch.exp(-lambda_r*distances)\n",
    "    \n",
    "    r, c = torch.triu_indices(n_nodes, n_nodes, offset=1)    \n",
    "    \n",
    "    with pyro.plate(\"data_loop\", size=len(r), subsample_size=100) as i:\n",
    "        rate_i = k[r[i]]*k[c[i]]*conn_kernel[r[i],c[i]]\n",
    "        pyro.sample(f\"obs\", dist.Poisson(rate_i), obs=adj[r[i],c[i]]) "
   ]
  },
  {
   "cell_type": "code",
   "execution_count": null,
   "id": "4516b3b2-3f3c-493e-babd-bbe5ac1eaa22",
   "metadata": {},
   "outputs": [],
   "source": [
    "losses, svi = train(dc_poisson_rgg_model_subsample, dc_poisson_rgg_guide_map, data, n_steps=1000)"
   ]
  },
  {
   "cell_type": "markdown",
   "id": "875a42bd-5dce-45b0-acbe-41536ef8023e",
   "metadata": {},
   "source": [
    "Interestingly, subsampling doesn't speed anything up. Might need to actually parallelize to get a speedup."
   ]
  },
  {
   "cell_type": "code",
   "execution_count": null,
   "id": "0a94a97a-9740-4c21-8096-aa005edb5c56",
   "metadata": {},
   "outputs": [],
   "source": [
    "fig, ax = plt.subplots()\n",
    "ax.plot(losses)\n",
    "ax.set_title(\"ELBO\")\n",
    "ax.set_xlabel(\"step\")\n",
    "ax.set_ylabel(\"loss\");"
   ]
  },
  {
   "cell_type": "code",
   "execution_count": null,
   "id": "86341c52-1c2f-40cf-aacc-c47726646db1",
   "metadata": {},
   "outputs": [],
   "source": [
    "map_estimate = pd.DataFrame(zip(pyro.param('AutoDelta.kolness').tolist(), np.array(kolness_truth)), columns=['MAP', 'truth'])"
   ]
  },
  {
   "cell_type": "code",
   "execution_count": null,
   "id": "24904945-4048-4095-ab62-74b71e86f580",
   "metadata": {},
   "outputs": [],
   "source": [
    "max_k = map_estimate.max().max()\n",
    "k_sp = np.linspace(0, max_k)\n",
    "\n",
    "fig, ax = plt.subplots()\n",
    "map_estimate.plot(x='truth', y='MAP', kind='scatter', ax=ax, color='black')\n",
    "ax.plot(k_sp, k_sp, '-r');\n",
    "ax.set_title('Parameter estimation: MAP vs truth')"
   ]
  },
  {
   "cell_type": "code",
   "execution_count": null,
   "id": "ab41ef19-8a2e-43ff-a72b-03671814fec6",
   "metadata": {},
   "outputs": [],
   "source": [
    "ranks = pd.DataFrame((map_estimate.MAP.argsort().argsort(), map_estimate.truth.argsort().argsort())).T\n",
    "\n",
    "fig, ax = plt.subplots()\n",
    "ranks.plot(x='truth', y='MAP', kind='scatter', ax=ax, color='black')\n",
    "ax.plot(range(len(ranks)), range(len(ranks)), '-r');\n",
    "ax.set_title('Kolness ranking: MAP vs truth')\n",
    "ax.set_xlabel('Kolness rank (truth)')\n",
    "ax.set_ylabel('Kolness rank (inferred)')"
   ]
  },
  {
   "cell_type": "markdown",
   "id": "995231f3-48df-4f37-98cb-40262c0caa0a",
   "metadata": {},
   "source": [
    "Using only 0.1% of the data per batch, we still recover rankings pretty well!! The run-time seems to be dominated by overhead, rather than likelihood computation -- runtime appears to be relatively the same over a large range of batch sizes. This bodes well for scaling up to large numbers of nodes."
   ]
  }
 ],
 "metadata": {
  "kernelspec": {
   "display_name": "kolgraph_pyro",
   "language": "python",
   "name": "kolgraph_pyro"
  },
  "language_info": {
   "codemirror_mode": {
    "name": "ipython",
    "version": 3
   },
   "file_extension": ".py",
   "mimetype": "text/x-python",
   "name": "python",
   "nbconvert_exporter": "python",
   "pygments_lexer": "ipython3",
   "version": "3.9.7"
  }
 },
 "nbformat": 4,
 "nbformat_minor": 5
}

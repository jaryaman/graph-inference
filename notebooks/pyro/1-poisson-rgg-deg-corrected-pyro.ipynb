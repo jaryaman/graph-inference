{
 "cells": [
  {
   "cell_type": "markdown",
   "metadata": {},
   "source": [
    "# Poisson RGG Using Pyro"
   ]
  },
  {
   "cell_type": "code",
   "execution_count": null,
   "metadata": {},
   "outputs": [],
   "source": [
    "%load_ext autoreload\n",
    "%autoreload 2\n",
    "%matplotlib inline"
   ]
  },
  {
   "cell_type": "code",
   "execution_count": null,
   "metadata": {},
   "outputs": [],
   "source": [
    "import sys\n",
    "sys.path.append('../utils')"
   ]
  },
  {
   "cell_type": "code",
   "execution_count": null,
   "metadata": {},
   "outputs": [],
   "source": [
    "from porpoise.plot import Style\n",
    "Style.from_default().apply()"
   ]
  },
  {
   "cell_type": "code",
   "execution_count": null,
   "metadata": {},
   "outputs": [],
   "source": [
    "from graphs import (get_independent_components_rgg, make_inter_vertex_distances, \n",
    "                    deg_corrected_poissonian_random_geometric_graph)"
   ]
  },
  {
   "cell_type": "code",
   "execution_count": null,
   "metadata": {},
   "outputs": [],
   "source": [
    "from plot import plot_multigraph\n",
    "from networkx.linalg.graphmatrix import adjacency_matrix\n",
    "import networkx as nx\n",
    "import matplotlib.pyplot as plt\n",
    "import numpy as np\n",
    "import math\n",
    "from time import time\n",
    "import pandas as pd"
   ]
  },
  {
   "cell_type": "code",
   "execution_count": null,
   "metadata": {},
   "outputs": [],
   "source": [
    "SEED = 42\n",
    "n = 10\n",
    "dim = 2"
   ]
  },
  {
   "cell_type": "code",
   "execution_count": null,
   "metadata": {},
   "outputs": [],
   "source": [
    "lambda_r_truth = 2\n",
    "exponential_kernel = lambda dist, ki, kj: ki * kj * math.exp(-lambda_r_truth * dist)"
   ]
  },
  {
   "cell_type": "code",
   "execution_count": null,
   "metadata": {},
   "outputs": [],
   "source": [
    "kolness_truth = np.ones(n)\n",
    "kolness_truth[0] = 10"
   ]
  },
  {
   "cell_type": "code",
   "execution_count": null,
   "metadata": {},
   "outputs": [],
   "source": [
    "r = np.random.RandomState(SEED)\n",
    "G_poisson = deg_corrected_poissonian_random_geometric_graph(\n",
    "    n, 1000, kolness_truth, exponential_kernel, r, \n",
    ")"
   ]
  },
  {
   "cell_type": "code",
   "execution_count": null,
   "metadata": {},
   "outputs": [],
   "source": [
    "adj = adjacency_matrix(G_poisson)\n",
    "adj = adj.toarray()"
   ]
  },
  {
   "cell_type": "code",
   "execution_count": null,
   "metadata": {},
   "outputs": [],
   "source": [
    "ax = plot_multigraph(G_poisson)"
   ]
  },
  {
   "cell_type": "code",
   "execution_count": null,
   "metadata": {},
   "outputs": [],
   "source": [
    "distances = make_inter_vertex_distances(G_poisson)"
   ]
  },
  {
   "cell_type": "markdown",
   "metadata": {},
   "source": [
    "## Inference"
   ]
  },
  {
   "cell_type": "code",
   "execution_count": null,
   "metadata": {},
   "outputs": [],
   "source": [
    "import pyro.distributions as dist\n",
    "import pyro\n",
    "from torch.distributions import constraints\n",
    "from pyro.optim import Adam\n",
    "from pyro.infer import SVI, Trace_ELBO\n",
    "import torch"
   ]
  },
  {
   "cell_type": "code",
   "execution_count": null,
   "metadata": {},
   "outputs": [],
   "source": [
    "distances = torch.tensor(distances)\n",
    "distances"
   ]
  },
  {
   "cell_type": "code",
   "execution_count": null,
   "metadata": {},
   "outputs": [],
   "source": [
    "adj = torch.tensor(adj)\n",
    "adj"
   ]
  },
  {
   "cell_type": "markdown",
   "metadata": {},
   "source": [
    "$$P(G|D, \\theta, k) = \\prod_{i<j} \\frac{(k_i k_j \\mathcal{F}(D_{ij}, \\theta))^{A_{ij}}}{A_{ij}!} \\exp(- k_i k_j \\mathcal{F}(D_{ij}, \\theta))$$"
   ]
  },
  {
   "cell_type": "code",
   "execution_count": null,
   "metadata": {},
   "outputs": [],
   "source": [
    "g = dist.Gamma(1,0.1)"
   ]
  },
  {
   "cell_type": "code",
   "execution_count": null,
   "metadata": {},
   "outputs": [],
   "source": [
    "x = np.linspace(0.01,20,100)\n",
    "plt.plot(x, 10**g.log_prob(x))"
   ]
  },
  {
   "cell_type": "code",
   "execution_count": null,
   "metadata": {},
   "outputs": [],
   "source": [
    "def dc_poisson_rgg_model(distances, adj):\n",
    "    n_nodes = adj.shape[0]\n",
    "    k = pyro.sample(\"kolness\", dist.Exponential(0.1).expand([n_nodes]).to_event(1))  # tell pyro that these are all dependent variables\n",
    "    lambda_r = pyro.sample(\"lambda_r\", dist.Exponential(0.1))\n",
    "    conn_kernel = torch.exp(-lambda_r*distances)\n",
    "    \n",
    "    assert k.shape == (n_nodes,)\n",
    "    assert conn_kernel.shape == (n_nodes, n_nodes)\n",
    "    \n",
    "    r, c = torch.triu_indices(n_nodes, n_nodes, offset=1)    \n",
    "    \n",
    "    with pyro.plate(\"data_loop\", len(r)) as i:\n",
    "        rate_i = k[r[i]]*k[c[i]]*conn_kernel[r[i],c[i]]\n",
    "        pyro.sample(f\"obs\", dist.Poisson(rate_i), obs=adj[r[i],c[i]]) \n"
   ]
  },
  {
   "cell_type": "markdown",
   "metadata": {},
   "source": [
    "## Exact inference"
   ]
  },
  {
   "cell_type": "code",
   "execution_count": null,
   "metadata": {},
   "outputs": [],
   "source": [
    "import arviz as az\n",
    "from pyro.infer import MCMC, NUTS"
   ]
  },
  {
   "cell_type": "code",
   "execution_count": null,
   "metadata": {},
   "outputs": [],
   "source": [
    "nuts_kernel = NUTS(dc_poisson_rgg_model)"
   ]
  },
  {
   "cell_type": "code",
   "execution_count": null,
   "metadata": {},
   "outputs": [],
   "source": [
    "mcmc = MCMC(nuts_kernel, num_samples=1000, warmup_steps=100, num_chains=4)"
   ]
  },
  {
   "cell_type": "code",
   "execution_count": null,
   "metadata": {},
   "outputs": [],
   "source": [
    "mcmc.run(distances, adj)"
   ]
  },
  {
   "cell_type": "code",
   "execution_count": null,
   "metadata": {},
   "outputs": [],
   "source": [
    "inferred = az.from_pyro(mcmc)"
   ]
  },
  {
   "cell_type": "code",
   "execution_count": null,
   "metadata": {},
   "outputs": [],
   "source": [
    "summary = az.summary(inferred) # , var_names = ['lambda_r', 'kolness']\n",
    "summary"
   ]
  },
  {
   "cell_type": "code",
   "execution_count": null,
   "metadata": {},
   "outputs": [],
   "source": [
    "az.plot_trace(inferred, var_names = ['lambda_r', 'kolness']);"
   ]
  },
  {
   "cell_type": "code",
   "execution_count": null,
   "metadata": {},
   "outputs": [],
   "source": [
    "az.plot_posterior(inferred, var_names = ['lambda_r', 'kolness'], ref_val = [lambda_r_truth] + list(kolness_truth));\n",
    "plt.tight_layout()"
   ]
  },
  {
   "cell_type": "code",
   "execution_count": null,
   "metadata": {},
   "outputs": [],
   "source": [
    "az.to_netcdf(inferred, 'pyro-poisson-rgg.netcdf')"
   ]
  },
  {
   "cell_type": "code",
   "execution_count": null,
   "metadata": {},
   "outputs": [],
   "source": [
    "inferred = az.from_netcdf('pyro-poisson-rgg.netcdf')"
   ]
  },
  {
   "cell_type": "markdown",
   "metadata": {},
   "source": [
    "## MAP estimation"
   ]
  },
  {
   "cell_type": "code",
   "execution_count": null,
   "metadata": {},
   "outputs": [],
   "source": [
    "from pyro.infer.autoguide import AutoDelta"
   ]
  },
  {
   "cell_type": "code",
   "execution_count": null,
   "metadata": {},
   "outputs": [],
   "source": [
    "# def dc_poisson_rgg_guide_map(distances, adj):    \n",
    "#     n_nodes = adj.shape[0]\n",
    "#     kolness_map = pyro.param(\"kolness_map\", torch.tensor(1).expand([n_nodes]), constraint=constraints.positive).to_event(1)\n",
    "#     lambda_r_map = pyro.param(\"lambda_r_map\", torch.tensor(1), constraint=constraints.positive)\n",
    "#     kolness = pyro.sample(\"kolness\", dist.Delta(kolness_map))\n",
    "#     lambda_r = pyro.sample(\"lambda_r\", dist.Delta(lambda_r_map))\n",
    "\n",
    "dc_poisson_rgg_guide_map = AutoDelta(dc_poisson_rgg_model)\n",
    "    "
   ]
  },
  {
   "cell_type": "code",
   "execution_count": null,
   "metadata": {},
   "outputs": [],
   "source": [
    "def train(model, guide, data, lr=0.01, n_steps=1000):\n",
    "    pyro.clear_param_store()\n",
    "    adam = pyro.optim.Adam({\"lr\": lr})\n",
    "    svi = SVI(model, guide, adam, loss=Trace_ELBO())\n",
    "    \n",
    "    losses = []\n",
    "    for step in range(n_steps):\n",
    "        loss = svi.step(**data)\n",
    "        losses.append(loss)\n",
    "        if step % 100 == 0:\n",
    "            print('[iter {}]  loss: {:.4f}'.format(step, loss))\n",
    "    \n",
    "    return losses"
   ]
  },
  {
   "cell_type": "code",
   "execution_count": null,
   "metadata": {},
   "outputs": [],
   "source": [
    "data = {'distances':distances, 'adj': adj}"
   ]
  },
  {
   "cell_type": "code",
   "execution_count": null,
   "metadata": {},
   "outputs": [],
   "source": [
    "losses = train(dc_poisson_rgg_model, dc_poisson_rgg_guide_map, data)"
   ]
  },
  {
   "cell_type": "code",
   "execution_count": null,
   "metadata": {},
   "outputs": [],
   "source": [
    "fig, ax = plt.subplots()\n",
    "ax.plot(losses)\n",
    "ax.set_title(\"ELBO\")\n",
    "ax.set_xlabel(\"step\")\n",
    "ax.set_ylabel(\"loss\");"
   ]
  },
  {
   "cell_type": "code",
   "execution_count": null,
   "metadata": {},
   "outputs": [],
   "source": [
    "for name, value in pyro.get_param_store().items():\n",
    "    print(name, pyro.param(name))"
   ]
  },
  {
   "cell_type": "code",
   "execution_count": null,
   "metadata": {},
   "outputs": [],
   "source": [
    "map_estimate = pd.DataFrame(zip(pyro.param('AutoDelta.kolness').tolist(), kolness_truth), columns=['MAP', 'truth'])\n",
    "map_estimate"
   ]
  },
  {
   "cell_type": "code",
   "execution_count": null,
   "metadata": {},
   "outputs": [],
   "source": [
    "ax = map_estimate.plot(x='truth', y='MAP', kind='scatter');"
   ]
  },
  {
   "cell_type": "markdown",
   "metadata": {},
   "source": [
    "---"
   ]
  },
  {
   "cell_type": "markdown",
   "metadata": {},
   "source": [
    "## Full SVI -- experimental"
   ]
  },
  {
   "cell_type": "code",
   "execution_count": null,
   "metadata": {},
   "outputs": [],
   "source": [
    "from torch.distributions.gamma import Gamma"
   ]
  },
  {
   "cell_type": "code",
   "execution_count": null,
   "metadata": {},
   "outputs": [],
   "source": [
    "def dc_poisson_rgg_guide(distances, adj):\n",
    "    n_nodes = adj.shape[0]\n",
    "    concentration_k = pyro.param('concentration_kolness', torch.tensor(1).expand([n_nodes]), constraint=constraints.positive, event_dim=1)\n",
    "    rate_k = pyro.param('rate_kolness', torch.tensor(0.1).expand([n_nodes]), constraint=constraints.positive, event_dim=1)\n",
    "    k = pyro.sample(\"kolness\", dist.Gamma(concentration_k, rate_k).to_event(1))  # tell pyro that these are all dependent variables\n",
    "    \n",
    "    concentration_lr = pyro.param('concentration_lambda_r', torch.tensor(1), constraint=constraints.positive, event_dim=1)\n",
    "    rate_lr = pyro.param('rate_lambda_r', torch.tensor(0.1), constraint=constraints.positive, event_dim=1)\n",
    "    lambda_r = pyro.sample(\"lambda_r\", dist.Gamma(concentration_lr, rate_lr))    "
   ]
  },
  {
   "cell_type": "code",
   "execution_count": null,
   "metadata": {},
   "outputs": [],
   "source": [
    "adam = pyro.optim.Adam({\"lr\": 0.005, \"betas\": (0.95, 0.999)})\n",
    "svi = SVI(dc_poisson_rgg_model, dc_poisson_rgg_guide, adam, loss=Trace_ELBO())"
   ]
  },
  {
   "cell_type": "code",
   "execution_count": null,
   "metadata": {},
   "outputs": [],
   "source": [
    "losses = train(dc_poisson_rgg_model, dc_poisson_rgg_guide, data)"
   ]
  },
  {
   "cell_type": "code",
   "execution_count": null,
   "metadata": {},
   "outputs": [],
   "source": [
    "fig, ax = plt.subplots()\n",
    "ax.plot(losses)\n",
    "ax.set_title(\"ELBO\")\n",
    "ax.set_xlabel(\"step\")\n",
    "ax.set_ylabel(\"loss\");"
   ]
  },
  {
   "cell_type": "code",
   "execution_count": null,
   "metadata": {},
   "outputs": [],
   "source": [
    "inferred_svi = {k:v for k, v in pyro.get_param_store().items()}"
   ]
  },
  {
   "cell_type": "code",
   "execution_count": null,
   "metadata": {},
   "outputs": [],
   "source": [
    "fig, axs = plt.subplots(nrows=4, ncols=3, figsize=(5*3, 5*4))\n",
    "axs = axs.ravel()\n",
    "\n",
    "k_sp_upper = kolness_truth*5\n",
    "\n",
    "for i in range(len(kolness_truth)):\n",
    "    k_sp = np.linspace(0.01, k_sp_upper[i])\n",
    "    axs[i].hist(inferred.posterior.data_vars['kolness'].values[:,:,i].ravel(), density=True, bins='auto', label='MCMC')\n",
    "    g = Gamma(inferred_svi['concentration_kolness'][i], inferred_svi['rate_kolness'][i])    \n",
    "    axs[i].plot(k_sp, np.exp(g.log_prob(k_sp).detach().numpy()), '-r', label='SVI (gamma)')\n",
    "    axs[i].legend()\n",
    "    axs[i].set_title(f'KOLness [{i}]')\n",
    "    plt.tight_layout()\n",
    "\n",
    "    \n",
    "lr_sp = np.linspace(0.1, 8)    \n",
    "axs[-2].hist(inferred.posterior.data_vars['lambda_r'].values.ravel(), density=True, bins='auto', label='MCMC')\n",
    "g = Gamma(inferred_svi['concentration_lambda_r'], inferred_svi['rate_lambda_r'])     \n",
    "axs[-2].plot(lr_sp, g.log_prob(lr_sp).exp().detach().numpy(), '-r', label='SVI (gamma)')\n",
    "axs[-2].legend()\n",
    "axs[-2].set_title(f'lambda_r')\n",
    "\n",
    "axs[-1].axis('off')\n",
    "\n",
    "plt.tight_layout()\n",
    "plt.savefig(f'svi_{n}.png')"
   ]
  },
  {
   "cell_type": "code",
   "execution_count": null,
   "metadata": {},
   "outputs": [],
   "source": []
  }
 ],
 "metadata": {
  "kernelspec": {
   "display_name": "kolgraph_pyro",
   "language": "python",
   "name": "kolgraph_pyro"
  },
  "language_info": {
   "codemirror_mode": {
    "name": "ipython",
    "version": 3
   },
   "file_extension": ".py",
   "mimetype": "text/x-python",
   "name": "python",
   "nbconvert_exporter": "python",
   "pygments_lexer": "ipython3",
   "version": "3.9.7"
  }
 },
 "nbformat": 4,
 "nbformat_minor": 5
}
